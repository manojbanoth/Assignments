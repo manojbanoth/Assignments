{
 "cells": [
  {
   "cell_type": "markdown",
   "metadata": {},
   "source": [
    "   #                     Assignment - 03"
   ]
  },
  {
   "cell_type": "raw",
   "metadata": {},
   "source": [
    "1. Write a function to compute 5/0 and use try/except to catch the exceptions"
   ]
  },
  {
   "cell_type": "code",
   "execution_count": 73,
   "metadata": {},
   "outputs": [
    {
     "name": "stdout",
     "output_type": "stream",
     "text": [
      "------------------------------INPUT------------------------------\n",
      "Enter the number of numerator: 5\n",
      "Enter the number of Denominator: 0\n",
      "------------------------OUTPUT------------------------\n"
     ]
    },
    {
     "data": {
      "text/plain": [
       "'Sorry the number is not divisible by zero, try with other numbers '"
      ]
     },
     "execution_count": 73,
     "metadata": {},
     "output_type": "execute_result"
    }
   ],
   "source": [
    "def div(a,b):   # defining the function div\n",
    "    try:\n",
    "        return a/b    # a is divisible by b\n",
    "    except:\n",
    "        return 'Sorry the number is not divisible by zero, try with other numbers '   # if the number is diveded by zero then it returns\n",
    "\n",
    "    \n",
    "print('-'*30+'INPUT'+'-'*30)\n",
    "\n",
    "a = float(input('Enter the number of numerator: '))   # input of numerator\n",
    "b = float(input('Enter the number of Denominator: '))  # input of denominator\n",
    "\n",
    "print('-'*30+'OUTPUT'+'-'*30)\n",
    "div(a,b)"
   ]
  },
  {
   "cell_type": "markdown",
   "metadata": {},
   "source": [
    "2.Implement a Python program to generate all sentences where subject is in [\"Americans\",\n",
    "\"Indians\"] and verb is in [\"Play\", \"watch\"] and the object is in [\"Baseball\",\"cricket\"].\n",
    "Hint: Subject,Verb and Object should be declared in the program as shown below.\n",
    "subjects=[\"Americans \",\"Indians\"]\n",
    "verbs=[\"play\",\"watch\"]\n",
    "objects=[\"Baseball\",\"Cricket\"]"
   ]
  },
  {
   "cell_type": "code",
   "execution_count": 74,
   "metadata": {},
   "outputs": [
    {
     "name": "stdout",
     "output_type": "stream",
     "text": [
      "Americans play Baseball.\n",
      "Americans play Cricket.\n",
      "Americans watch Baseball.\n",
      "Americans watch Cricket.\n",
      "Indians play Baseball.\n",
      "Indians play Cricket.\n",
      "Indians watch Baseball.\n",
      "Indians watch Cricket.\n"
     ]
    }
   ],
   "source": [
    "subject = ['Americans', 'Indians']\n",
    "verbs= ['play', 'watch']\n",
    "objects = ['Baseball','Cricket']\n",
    "\n",
    "lst =[(i+' '+j+' '+k+'.') for  i in subject for j in verbs for k in objects] \n",
    "for l in lst:\n",
    "    print(l)\n",
    "    "
   ]
  },
  {
   "cell_type": "markdown",
   "metadata": {},
   "source": [
    "3.Write a function so that the columns of the output matrix are powers of the input vector.\n",
    "The order of the powers is determined by the increasing boolean argument. Specifically, when\n",
    "increasing is False, the i-th output column is the input vector raised element-wise to the power\n",
    "of N - i - 1."
   ]
  },
  {
   "cell_type": "code",
   "execution_count": 76,
   "metadata": {},
   "outputs": [
    {
     "name": "stdout",
     "output_type": "stream",
     "text": [
      "------------------------------INPUT------------------------------\n",
      "Enter the length of the array : 4\n",
      "Enter the value :2\n",
      "Enter the value :3\n",
      "Enter the value :4\n",
      "Enter the value :5\n",
      "The input list [2, 3, 4, 5]\n",
      "------------------------------OUTPUT------------------------------\n",
      "The power of the column in decreasing order\n",
      "[[  8   4   2   1]\n",
      " [ 27   9   3   1]\n",
      " [ 64  16   4   1]\n",
      " [125  25   5   1]]\n",
      "The power of the column in increasing order\n",
      "[[  1   2   4   8]\n",
      " [  1   3   9  27]\n",
      " [  1   4  16  64]\n",
      " [  1   5  25 125]]\n"
     ]
    }
   ],
   "source": [
    "import numpy as np\n",
    "\n",
    "def matrix(a, n, increasing = True): #defining the matrix with two  input variables and one boolean function\n",
    "    \n",
    "    if increasing==True:\n",
    "        \n",
    "        return np.array([x**i for x in a for i in range(n)]).reshape(a.size,n)\n",
    "\n",
    "    else:\n",
    "        return np.array([x**(n-i-1) for x in a for i in range(n)]).reshape(a.size,n)\n",
    "\n",
    "print('-'*30+'INPUT'+'-'*30)\n",
    "\n",
    "n = int(input('Enter the length of the array : '))  # input of the length of the array\n",
    "\n",
    "arr=[]  # empty list created\n",
    "\n",
    "for i in range(n):\n",
    "    \n",
    "    x = int(input('Enter the value :'))   # input of each elemet \n",
    "    \n",
    "    arr.append( x )                # input emlemets are added\n",
    "\n",
    "print('The input list',arr)\n",
    "\n",
    "nparray = np.array(arr)  # Input list is converted into numpy array of column of a input vector\n",
    "\n",
    "print('-'*30+'OUTPUT'+'-'*30)\n",
    "\n",
    "\n",
    "print('The power of the column in decreasing order')\n",
    "\n",
    "print(matrix(nparray,n, False))\n",
    "\n",
    "print('The power of the column in increasing order')\n",
    "\n",
    "print(matrix(nparray,n, True))\n",
    "    \n",
    "    \n",
    "    "
   ]
  },
  {
   "cell_type": "code",
   "execution_count": null,
   "metadata": {},
   "outputs": [],
   "source": []
  }
 ],
 "metadata": {
  "kernelspec": {
   "display_name": "Python 3",
   "language": "python",
   "name": "python3"
  },
  "language_info": {
   "codemirror_mode": {
    "name": "ipython",
    "version": 3
   },
   "file_extension": ".py",
   "mimetype": "text/x-python",
   "name": "python",
   "nbconvert_exporter": "python",
   "pygments_lexer": "ipython3",
   "version": "3.7.4"
  }
 },
 "nbformat": 4,
 "nbformat_minor": 2
}
