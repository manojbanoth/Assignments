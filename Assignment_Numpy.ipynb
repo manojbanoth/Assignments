{
 "cells": [
  {
   "cell_type": "code",
   "execution_count": 10,
   "metadata": {},
   "outputs": [],
   "source": [
    "import numpy as np"
   ]
  },
  {
   "cell_type": "raw",
   "metadata": {},
   "source": [
    "Given a sequence of n values x1, x2, ..., xn and a window size k>0, the k-th moving average of\n",
    "the given sequence is defined as follows:\n",
    "The moving average sequence has n-k+1 elements as shown below.\n",
    "The moving averages with k=4 of a ten-value sequence (n=10) is shown below\n",
    "i 1 2 3 4 5 6 7 8 9 10\n",
    "===== == == == == == == == == == ==\n",
    "Input 10 20 30 40 50 60 70 80 90 100\n",
    "y1 25 = (10+20+30+40)/4\n",
    "y2 35 = (20+30+40+50)/4\n",
    "y3 45 = (30+40+50+60)/4\n",
    "y4 55 = (40+50+60+70)/4\n",
    "y5 65 = (50+60+70+80)/4\n",
    "y6 75 = (60+70+80+90)/4\n",
    "y7 85 = (70+80+90+100)/4\n",
    "Thus, the moving average sequence has n-k+1=10-4+1=7 values"
   ]
  },
  {
   "cell_type": "code",
   "execution_count": 11,
   "metadata": {},
   "outputs": [
    {
     "name": "stdout",
     "output_type": "stream",
     "text": [
      "------------------------------INPUT------------------------------\n",
      "Enter the window size: 3\n",
      "------------------------------OUTPUT------------------------------\n",
      "The moving average of given array and window size is  [  4.66666667   5.66666667   6.66666667   9.66666667  28.66666667\n",
      "  49.33333333  72.66666667  84.          93.33333333 116.33333333]\n"
     ]
    }
   ],
   "source": [
    "def moving_avg(arr, w):         #defining the moving avrage funtion\n",
    "    result=np.cumsum(arr)      # cummlative sum in a given list\n",
    "    return (result[w:]-result[:-w])/float(w)    # moving average of the given list depends upon the window size\n",
    "\n",
    "print('-'*30+'INPUT'+'-'*30)\n",
    "\n",
    "window_size =int(input('Enter the window size: ' )) # Input of window size\n",
    "\n",
    "arr= [3, 5, 7, 2, 8, 10, 11, 65, 72, 81, 99, 100, 150]  # Given list\n",
    "\n",
    "print('-'*30+'OUTPUT'+'-'*30)\n",
    "      \n",
    "print('The moving average of given array and window size is ',moving_avg(arr,window_size))  \n",
    "                       "
   ]
  },
  {
   "cell_type": "markdown",
   "metadata": {},
   "source": [
    "Write a function so that the columns of the output matrix are powers of the input vector. The order of the powers is determined by the increasing boolean argument. Specifically, when increasing is False, the i-th output column is the input vector raised element-wise to the power of N - i - 1."
   ]
  },
  {
   "cell_type": "code",
   "execution_count": 12,
   "metadata": {},
   "outputs": [
    {
     "name": "stdout",
     "output_type": "stream",
     "text": [
      "------------------------------INPUT------------------------------\n",
      "Enter the length of the array : 4\n",
      "Enter the value :3\n",
      "Enter the value :6\n",
      "Enter the value :5\n",
      "Enter the value :2\n",
      "The input list [3, 6, 5, 2]\n",
      "------------------------------OUTPUT------------------------------\n",
      "The power of the column in decreasing order\n",
      "[[ 27   9   3   1]\n",
      " [216  36   6   1]\n",
      " [125  25   5   1]\n",
      " [  8   4   2   1]]\n",
      "The power of the column in increasing order\n",
      "[[  1   3   9  27]\n",
      " [  1   6  36 216]\n",
      " [  1   5  25 125]\n",
      " [  1   2   4   8]]\n"
     ]
    }
   ],
   "source": [
    "\n",
    "\n",
    "def matrix(a, n, increasing = True): #defining the matrix with two  input variables and one boolean function\n",
    "    \n",
    "    if increasing==True:\n",
    "        \n",
    "        return np.array([x**i for x in a for i in range(n)]).reshape(a.size,n)\n",
    "\n",
    "    else:\n",
    "        return np.array([x**(n-i-1) for x in a for i in range(n)]).reshape(a.size,n)\n",
    "\n",
    "print('-'*30+'INPUT'+'-'*30)\n",
    "\n",
    "n = int(input('Enter the length of the array : '))  # input of the length of the array\n",
    "\n",
    "arr=[]  # empty list created\n",
    "\n",
    "for i in range(n):\n",
    "    \n",
    "    x = int(input('Enter the value :'))   # input of each elemet \n",
    "    \n",
    "    arr.append( x )                # input emlemets are added\n",
    "\n",
    "print('The input list',arr)\n",
    "\n",
    "nparray = np.array(arr)  # Input list is converted into numpy array of column of a input vector\n",
    "\n",
    "print('-'*30+'OUTPUT'+'-'*30)\n",
    "\n",
    "\n",
    "print('The power of the column in decreasing order')\n",
    "\n",
    "print(matrix(nparray,n, False))\n",
    "\n",
    "print('The power of the column in increasing order')\n",
    "\n",
    "print(matrix(nparray,n, True))"
   ]
  },
  {
   "cell_type": "code",
   "execution_count": null,
   "metadata": {},
   "outputs": [],
   "source": []
  }
 ],
 "metadata": {
  "kernelspec": {
   "display_name": "Python 3",
   "language": "python",
   "name": "python3"
  },
  "language_info": {
   "codemirror_mode": {
    "name": "ipython",
    "version": 3
   },
   "file_extension": ".py",
   "mimetype": "text/x-python",
   "name": "python",
   "nbconvert_exporter": "python",
   "pygments_lexer": "ipython3",
   "version": "3.7.4"
  }
 },
 "nbformat": 4,
 "nbformat_minor": 2
}
