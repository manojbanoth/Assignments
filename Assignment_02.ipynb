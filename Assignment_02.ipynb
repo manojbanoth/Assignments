{
 "cells": [
  {
   "cell_type": "markdown",
   "metadata": {},
   "source": [
    "# Assingnment 02 "
   ]
  },
  {
   "cell_type": "markdown",
   "metadata": {},
   "source": [
    "1.1 Write a Python Program to implement your own myreduce() function which works exactly like\n",
    "    Python's built-in function reduce()"
   ]
  },
  {
   "cell_type": "code",
   "execution_count": 1,
   "metadata": {},
   "outputs": [
    {
     "name": "stdout",
     "output_type": "stream",
     "text": [
      "47\n"
     ]
    }
   ],
   "source": [
    "def my_reduce(func, seq): # defining  my_reduce function with two variables \n",
    "    \n",
    "    a= seq[0]  # Assinging the frist element \n",
    "    \n",
    "    for i in seq[1:]:  # for loop from for all the  remaining elements in seq\n",
    "        \n",
    "        a= func(a,i)  # updating the output w.r.t func\n",
    "        \n",
    "        return a\n",
    "\n",
    "##################################################\n",
    "\n",
    "# func to test my_reduce function\n",
    "\n",
    "def maximum(x,y):   \n",
    "    if x>y:\n",
    "        return x\n",
    "    else:\n",
    "        return y\n",
    "    \n",
    " ##################################\n",
    "# Test for the my_reduce function\n",
    "    \n",
    "seq=[47,11,42,13]   \n",
    "    \n",
    "print(my_reduce(maximum,seq))"
   ]
  },
  {
   "cell_type": "markdown",
   "metadata": {},
   "source": [
    "1.2 Write a Python program to implement your own myfilter() function which works exactly like\n",
    "    Python's built-in function filter()"
   ]
  },
  {
   "cell_type": "code",
   "execution_count": 2,
   "metadata": {},
   "outputs": [
    {
     "name": "stdout",
     "output_type": "stream",
     "text": [
      "[2, 4, 10, 66, 78, 100]\n"
     ]
    }
   ],
   "source": [
    "def my_filter(func, seq):   # defining my filter func \n",
    "    a = []        # empty  list  creaating \n",
    "    \n",
    "    for i in seq:\n",
    "        if func(i):\n",
    "            a.append(i)\n",
    "    return a\n",
    " ###############################################################\n",
    "    # test func \n",
    "def iseven(x):\n",
    "    if (x %2== 0): \n",
    "        return True \n",
    "    else: \n",
    "        return False\n",
    " ################################################################   \n",
    "# Test code for my filter function \n",
    "lst=[1,2,3,4,10,55,67,66,78,100]\n",
    "print(my_filter(iseven, lst))"
   ]
  },
  {
   "cell_type": "markdown",
   "metadata": {},
   "source": [
    "2.Implement List comprehensions to produce the following lists.\n",
    "Write List comprehensions to produce the following Lists\n",
    "['A', 'C', 'A', 'D', 'G', 'I', ’L’, ‘ D’]\n",
    "['x', 'xx', 'xxx', 'xxxx', 'y', 'yy', 'yyy', 'yyyy', 'z', 'zz', 'zzz', 'zzzz']\n",
    "['x', 'y', 'z', 'xx', 'yy', 'zz', 'xx', 'yy', 'zz', 'xxxx', 'yyyy', 'zzzz']\n",
    "[[2], [3], [4], [3], [4], [5], [4], [5], [6]]\n",
    "[[2, 3, 4, 5], [3, 4, 5, 6], [4, 5, 6, 7], [5, 6, 7, 8]]\n",
    "[(1, 1), (2, 1), (3, 1), (1, 2), (2, 2), (3, 2), (1, 3), (2, 3), (3, 3)]"
   ]
  },
  {
   "cell_type": "code",
   "execution_count": 3,
   "metadata": {},
   "outputs": [
    {
     "data": {
      "text/plain": [
       "['A', 'C', 'A', 'D', 'G', 'I', 'L', 'D']"
      ]
     },
     "execution_count": 3,
     "metadata": {},
     "output_type": "execute_result"
    }
   ],
   "source": [
    "[i for i in 'ACADGILD']"
   ]
  },
  {
   "cell_type": "code",
   "execution_count": 4,
   "metadata": {
    "scrolled": true
   },
   "outputs": [
    {
     "data": {
      "text/plain": [
       "['x', 'y', 'z', 'xx', 'yy', 'zz', 'xxx', 'yyy', 'zzz', 'xxxx', 'yyyy', 'zzzz']"
      ]
     },
     "execution_count": 4,
     "metadata": {},
     "output_type": "execute_result"
    }
   ],
   "source": [
    "[i*j for i in range (1,5) for j in 'xyz']"
   ]
  },
  {
   "cell_type": "code",
   "execution_count": 5,
   "metadata": {},
   "outputs": [
    {
     "data": {
      "text/plain": [
       "['x', 'xx', 'xxx', 'xxxx', 'y', 'yy', 'yyy', 'yyyy', 'z', 'zz', 'zzz', 'zzzz']"
      ]
     },
     "execution_count": 5,
     "metadata": {},
     "output_type": "execute_result"
    }
   ],
   "source": [
    "[i*j for i in 'xyz' for j in range (1,5)]"
   ]
  },
  {
   "cell_type": "code",
   "execution_count": 6,
   "metadata": {},
   "outputs": [
    {
     "data": {
      "text/plain": [
       "[[2], [3], [4], [3], [4], [5], [4], [5], [6]]"
      ]
     },
     "execution_count": 6,
     "metadata": {},
     "output_type": "execute_result"
    }
   ],
   "source": [
    "[[i+j] for i in range(1,4) for j in range (1,4)]"
   ]
  },
  {
   "cell_type": "code",
   "execution_count": 7,
   "metadata": {},
   "outputs": [
    {
     "data": {
      "text/plain": [
       "[[2, 3, 4, 5], [3, 4, 5, 6], [4, 5, 6, 7], [5, 6, 7, 8]]"
      ]
     },
     "execution_count": 7,
     "metadata": {},
     "output_type": "execute_result"
    }
   ],
   "source": [
    "[[i+j for i in range(0,4)] for j in range(2,6)]"
   ]
  },
  {
   "cell_type": "code",
   "execution_count": 8,
   "metadata": {},
   "outputs": [
    {
     "data": {
      "text/plain": [
       "[(1, 1), (2, 1), (3, 1), (1, 2), (2, 2), (3, 2), (1, 3), (2, 3), (3, 3)]"
      ]
     },
     "execution_count": 8,
     "metadata": {},
     "output_type": "execute_result"
    }
   ],
   "source": [
    "[(i,j) for j in range(1,4) for i in range (1,4)]"
   ]
  },
  {
   "cell_type": "markdown",
   "metadata": {},
   "source": [
    "3. Implement a function longestWord() that takes a list of words and returns the longest one"
   ]
  },
  {
   "cell_type": "code",
   "execution_count": 9,
   "metadata": {},
   "outputs": [
    {
     "name": "stdout",
     "output_type": "stream",
     "text": [
      "abcdefghjk\n"
     ]
    },
    {
     "data": {
      "text/plain": [
       "['abcdefghjk']"
      ]
     },
     "execution_count": 9,
     "metadata": {},
     "output_type": "execute_result"
    }
   ],
   "source": [
    "lst=['ab', 'bc', 'abcde', 'abcdefghjk']  # Creating the list\n",
    "\n",
    "def longest_word(seq):   # defining the longestword function\n",
    "    \n",
    "    for i in seq: #Creating the for loop all the elements in seq\n",
    "        \n",
    "        if len(i)==max(map(len,seq)): # conditinal statement for maximun length\n",
    "                            return i   # return the maximum word\n",
    "                            \n",
    "print(longest_word(lst))\n",
    "\n",
    "[i for  i in lst if len(i)==max(map(len,lst))]  ## Comprehensive list for the longest word\n",
    "\n"
   ]
  },
  {
   "cell_type": "markdown",
   "metadata": {},
   "source": [
    "1.1 Write a Python Program(with class concepts) to find the area of the triangle using the below\n",
    "    formula.\n",
    "    area = (s*(s-a)*(s-b)*(s-c)) ** 0.5\n",
    "    Function to take the length of the sides of triangle from user should be defined in the parent\n",
    "    class and function to calculate the area should be defined in subclass."
   ]
  },
  {
   "cell_type": "code",
   "execution_count": 10,
   "metadata": {},
   "outputs": [
    {
     "name": "stdout",
     "output_type": "stream",
     "text": [
      "Enter the side of a triangle: 5\n",
      "Enter the side of a triangle: 5\n",
      "Enter the side of a triangle: 5\n",
      "10.825317547305483\n"
     ]
    }
   ],
   "source": [
    "a= int(input('Enter the side of a triangle: '))\n",
    "b= int(input('Enter the side of a triangle: '))  # inpusts of sides of triangles\n",
    "    \n",
    "c= int(input('Enter the side of a triangle: '))\n",
    "\n",
    "\n",
    "class find_area_of_a_triangle(): # class find_area_of_triangle is created\n",
    "    \n",
    "    \n",
    "    \n",
    "     #=============================================================   \n",
    "    def __init__(self , a,b,c):           # defining the inheritence for the side of a triangle\n",
    "        self.a = a\n",
    "        self.b = b\n",
    "        self.c = c\n",
    "    #=================================================================        \n",
    "    def area(self):                # defining the method area of a triangle\n",
    "        s= (a+b+c)/2\n",
    "        area=(s*(s-a)*(s-b)*(s-c))**0.5\n",
    "        return area\n",
    "#================================================================    \n",
    "area_of_triangle=find_area_of_a_triangle(a,b,c)\n",
    "print(area_of_triangle.area())\n",
    "    "
   ]
  },
  {
   "cell_type": "markdown",
   "metadata": {},
   "source": [
    "1.2 Write a function filter_long_words() that takes a list of words and an integer n and returns the list\n",
    "    of words that are longer than n."
   ]
  },
  {
   "cell_type": "code",
   "execution_count": 11,
   "metadata": {},
   "outputs": [
    {
     "name": "stdout",
     "output_type": "stream",
     "text": [
      "Enter the positive integer: 5\n",
      "['banoth', 'affafaff', 'fafafafeaf', 'fafaffaerrafrf']\n"
     ]
    }
   ],
   "source": [
    "def filter_long_words(lst,n):             #defing filter_long_words with two variables\n",
    "    return [i for i in lst if n<len(i)]   # return to the comprehensive list for given problem  stament\n",
    "    \n",
    "    \n",
    "            \n",
    "lst=['manoj', 'banoth','ma','man','affafaff','fafafafeaf','fafaffaerrafrf']   #list created\n",
    "n=int(input('Enter the positive integer: '))\n",
    "\n",
    "print(filter_long_words(lst,n))"
   ]
  },
  {
   "cell_type": "markdown",
   "metadata": {},
   "source": [
    "2.1 Write a Python program using function concept that maps list of words into a list of integers\n",
    "    representing the lengths of the corresponding words .\n",
    "    Hint: If a list [ ab,cde,erty] is passed on to the python function output should come as [2,3,4]"
   ]
  },
  {
   "cell_type": "code",
   "execution_count": 12,
   "metadata": {},
   "outputs": [
    {
     "name": "stdout",
     "output_type": "stream",
     "text": [
      "[5, 6, 2, 3, 8, 10, 14]\n"
     ]
    }
   ],
   "source": [
    "def length(lst):   # defing the method for given statement\n",
    "    return list(map(len, lst))\n",
    "\n",
    "lst=['manoj', 'banoth','ma','man','affafaff','fafafafeaf','fafaffaerrafrf'] #list created\n",
    "print(length(lst))"
   ]
  },
  {
   "cell_type": "markdown",
   "metadata": {},
   "source": [
    "2.2 Write a Python function which takes a character (i.e. a string of length 1) and returns True if it is\n",
    "    a vowel, False otherwise."
   ]
  },
  {
   "cell_type": "code",
   "execution_count": 13,
   "metadata": {},
   "outputs": [
    {
     "name": "stdout",
     "output_type": "stream",
     "text": [
      "b\n",
      "False\n"
     ]
    }
   ],
   "source": [
    "def is_vowel(char):             #definig the function\n",
    "    if len(char)==1:           # assingning the length of the char is one\n",
    "        lst='aeiouAEIOU'      # creating the lst with aeiouAEIOU \n",
    "        if char in lst:       # implementing the conditional statement\n",
    "            return True\n",
    "        else:\n",
    "            return False\n",
    "    else:\n",
    "        return ('The length of the char should be one')\n",
    "        \n",
    "char = input()        \n",
    "print(is_vowel(char))\n"
   ]
  },
  {
   "cell_type": "code",
   "execution_count": null,
   "metadata": {},
   "outputs": [],
   "source": []
  }
 ],
 "metadata": {
  "kernelspec": {
   "display_name": "Python 3",
   "language": "python",
   "name": "python3"
  },
  "language_info": {
   "codemirror_mode": {
    "name": "ipython",
    "version": 3
   },
   "file_extension": ".py",
   "mimetype": "text/x-python",
   "name": "python",
   "nbconvert_exporter": "python",
   "pygments_lexer": "ipython3",
   "version": "3.7.4"
  }
 },
 "nbformat": 4,
 "nbformat_minor": 2
}
